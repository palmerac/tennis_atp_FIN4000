{
 "cells": [
  {
   "cell_type": "code",
   "execution_count": 6,
   "id": "9d30af50",
   "metadata": {},
   "outputs": [],
   "source": [
    "import pandas as pd\n",
    "import numpy as np\n",
    "from ydata_profiling import ProfileReport"
   ]
  },
  {
   "cell_type": "code",
   "execution_count": 14,
   "id": "503027f7",
   "metadata": {},
   "outputs": [],
   "source": [
    "df = pd.read_csv('atp_matches_2018.csv')"
   ]
  },
  {
   "cell_type": "code",
   "execution_count": 15,
   "id": "7ea36fe1",
   "metadata": {
    "scrolled": true
   },
   "outputs": [
    {
     "name": "stdout",
     "output_type": "stream",
     "text": [
      "<class 'pandas.core.frame.DataFrame'>\n",
      "RangeIndex: 2897 entries, 0 to 2896\n",
      "Data columns (total 49 columns):\n",
      " #   Column              Non-Null Count  Dtype  \n",
      "---  ------              --------------  -----  \n",
      " 0   tourney_id          2897 non-null   object \n",
      " 1   tourney_name        2897 non-null   object \n",
      " 2   surface             2897 non-null   object \n",
      " 3   draw_size           2897 non-null   int64  \n",
      " 4   tourney_level       2897 non-null   object \n",
      " 5   tourney_date        2897 non-null   int64  \n",
      " 6   match_num           2897 non-null   int64  \n",
      " 7   winner_id           2897 non-null   int64  \n",
      " 8   winner_seed         1140 non-null   float64\n",
      " 9   winner_entry        424 non-null    object \n",
      " 10  winner_name         2897 non-null   object \n",
      " 11  winner_hand         2897 non-null   object \n",
      " 12  winner_ht           2868 non-null   float64\n",
      " 13  winner_ioc          2897 non-null   object \n",
      " 14  winner_age          2897 non-null   float64\n",
      " 15  loser_id            2897 non-null   int64  \n",
      " 16  loser_seed          711 non-null    float64\n",
      " 17  loser_entry         660 non-null    object \n",
      " 18  loser_name          2897 non-null   object \n",
      " 19  loser_hand          2887 non-null   object \n",
      " 20  loser_ht            2831 non-null   float64\n",
      " 21  loser_ioc           2897 non-null   object \n",
      " 22  loser_age           2897 non-null   float64\n",
      " 23  score               2897 non-null   object \n",
      " 24  best_of             2897 non-null   int64  \n",
      " 25  round               2897 non-null   object \n",
      " 26  minutes             2854 non-null   float64\n",
      " 27  w_ace               2862 non-null   float64\n",
      " 28  w_df                2862 non-null   float64\n",
      " 29  w_svpt              2862 non-null   float64\n",
      " 30  w_1stIn             2862 non-null   float64\n",
      " 31  w_1stWon            2862 non-null   float64\n",
      " 32  w_2ndWon            2862 non-null   float64\n",
      " 33  w_SvGms             2862 non-null   float64\n",
      " 34  w_bpSaved           2862 non-null   float64\n",
      " 35  w_bpFaced           2862 non-null   float64\n",
      " 36  l_ace               2862 non-null   float64\n",
      " 37  l_df                2862 non-null   float64\n",
      " 38  l_svpt              2862 non-null   float64\n",
      " 39  l_1stIn             2862 non-null   float64\n",
      " 40  l_1stWon            2862 non-null   float64\n",
      " 41  l_2ndWon            2862 non-null   float64\n",
      " 42  l_SvGms             2862 non-null   float64\n",
      " 43  l_bpSaved           2862 non-null   float64\n",
      " 44  l_bpFaced           2862 non-null   float64\n",
      " 45  winner_rank         2890 non-null   float64\n",
      " 46  winner_rank_points  2890 non-null   float64\n",
      " 47  loser_rank          2866 non-null   float64\n",
      " 48  loser_rank_points   2866 non-null   float64\n",
      "dtypes: float64(29), int64(6), object(14)\n",
      "memory usage: 1.1+ MB\n"
     ]
    }
   ],
   "source": [
    "df.info()"
   ]
  },
  {
   "cell_type": "code",
   "execution_count": 7,
   "id": "4b37275c",
   "metadata": {},
   "outputs": [
    {
     "data": {
      "application/vnd.jupyter.widget-view+json": {
       "model_id": "3ec9b9f5568f426a8864232f80636026",
       "version_major": 2,
       "version_minor": 0
      },
      "text/plain": [
       "Summarize dataset:   0%|          | 0/5 [00:00<?, ?it/s]"
      ]
     },
     "metadata": {},
     "output_type": "display_data"
    },
    {
     "data": {
      "application/vnd.jupyter.widget-view+json": {
       "model_id": "deb93e03131e426d934d815c451deca0",
       "version_major": 2,
       "version_minor": 0
      },
      "text/plain": [
       "Generate report structure:   0%|          | 0/1 [00:00<?, ?it/s]"
      ]
     },
     "metadata": {},
     "output_type": "display_data"
    },
    {
     "data": {
      "application/vnd.jupyter.widget-view+json": {
       "model_id": "8c6aabec9dc44b4797f4a6a51d2c1123",
       "version_major": 2,
       "version_minor": 0
      },
      "text/plain": [
       "Render HTML:   0%|          | 0/1 [00:00<?, ?it/s]"
      ]
     },
     "metadata": {},
     "output_type": "display_data"
    },
    {
     "data": {
      "application/vnd.jupyter.widget-view+json": {
       "model_id": "6f3578c2b96f4ef8aa764548209c094a",
       "version_major": 2,
       "version_minor": 0
      },
      "text/plain": [
       "Export report to file:   0%|          | 0/1 [00:00<?, ?it/s]"
      ]
     },
     "metadata": {},
     "output_type": "display_data"
    }
   ],
   "source": [
    "profile = ProfileReport(df, title='Tennis Summary')\n",
    "profile.to_file('TennisSummary.html')"
   ]
  }
 ],
 "metadata": {
  "kernelspec": {
   "display_name": "Python 3 (ipykernel)",
   "language": "python",
   "name": "python3"
  },
  "language_info": {
   "codemirror_mode": {
    "name": "ipython",
    "version": 3
   },
   "file_extension": ".py",
   "mimetype": "text/x-python",
   "name": "python",
   "nbconvert_exporter": "python",
   "pygments_lexer": "ipython3",
   "version": "3.11.0"
  }
 },
 "nbformat": 4,
 "nbformat_minor": 5
}
