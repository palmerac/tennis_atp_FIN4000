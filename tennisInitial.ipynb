{
 "cells": [
  {
   "cell_type": "code",
   "execution_count": 3,
   "id": "9d30af50",
   "metadata": {},
   "outputs": [],
   "source": [
    "import pandas as pd\n",
    "import numpy as np\n",
    "import glob\n",
    "from ydata_profiling import ProfileReport"
   ]
  },
  {
   "cell_type": "code",
   "execution_count": 4,
   "id": "503027f7",
   "metadata": {},
   "outputs": [
    {
     "name": "stdout",
     "output_type": "stream",
     "text": [
      "<class 'pandas.core.frame.DataFrame'>\n",
      "RangeIndex: 69567 entries, 0 to 69566\n",
      "Data columns (total 49 columns):\n",
      " #   Column              Non-Null Count  Dtype  \n",
      "---  ------              --------------  -----  \n",
      " 0   tourney_id          69567 non-null  object \n",
      " 1   tourney_name        69567 non-null  object \n",
      " 2   surface             69567 non-null  object \n",
      " 3   draw_size           69567 non-null  int64  \n",
      " 4   tourney_level       69567 non-null  object \n",
      " 5   tourney_date        69567 non-null  int64  \n",
      " 6   match_num           69567 non-null  int64  \n",
      " 7   winner_id           69567 non-null  int64  \n",
      " 8   winner_seed         28861 non-null  object \n",
      " 9   winner_entry        8649 non-null   object \n",
      " 10  winner_name         69567 non-null  object \n",
      " 11  winner_hand         69556 non-null  object \n",
      " 12  winner_ht           68017 non-null  float64\n",
      " 13  winner_ioc          69567 non-null  object \n",
      " 14  winner_age          69562 non-null  float64\n",
      " 15  loser_id            69567 non-null  int64  \n",
      " 16  loser_seed          15906 non-null  object \n",
      " 17  loser_entry         14143 non-null  object \n",
      " 18  loser_name          69567 non-null  object \n",
      " 19  loser_hand          69521 non-null  object \n",
      " 20  loser_ht            66434 non-null  float64\n",
      " 21  loser_ioc           69567 non-null  object \n",
      " 22  loser_age           69559 non-null  float64\n",
      " 23  score               69567 non-null  object \n",
      " 24  best_of             69567 non-null  int64  \n",
      " 25  round               69567 non-null  object \n",
      " 26  minutes             61760 non-null  float64\n",
      " 27  w_ace               63177 non-null  float64\n",
      " 28  w_df                63177 non-null  float64\n",
      " 29  w_svpt              63177 non-null  float64\n",
      " 30  w_1stIn             63177 non-null  float64\n",
      " 31  w_1stWon            63177 non-null  float64\n",
      " 32  w_2ndWon            63177 non-null  float64\n",
      " 33  w_SvGms             63178 non-null  float64\n",
      " 34  w_bpSaved           63177 non-null  float64\n",
      " 35  w_bpFaced           63177 non-null  float64\n",
      " 36  l_ace               63177 non-null  float64\n",
      " 37  l_df                63177 non-null  float64\n",
      " 38  l_svpt              63177 non-null  float64\n",
      " 39  l_1stIn             63177 non-null  float64\n",
      " 40  l_1stWon            63177 non-null  float64\n",
      " 41  l_2ndWon            63177 non-null  float64\n",
      " 42  l_SvGms             63178 non-null  float64\n",
      " 43  l_bpSaved           63177 non-null  float64\n",
      " 44  l_bpFaced           63177 non-null  float64\n",
      " 45  winner_rank         69022 non-null  float64\n",
      " 46  winner_rank_points  69022 non-null  float64\n",
      " 47  loser_rank          68151 non-null  float64\n",
      " 48  loser_rank_points   68151 non-null  float64\n",
      "dtypes: float64(27), int64(6), object(16)\n",
      "memory usage: 26.0+ MB\n"
     ]
    }
   ],
   "source": [
    "# Get a list of all csv files in the current directory\n",
    "csv_files = glob.glob('atp_matches_*.csv')\n",
    "\n",
    "# Create a list to store the dataframes\n",
    "dfs = []\n",
    "\n",
    "# Loop over the csv files\n",
    "for file in csv_files:\n",
    "    # Read the csv file into a data frame and append it to the list\n",
    "    df = pd.read_csv(file)\n",
    "    dfs.append(df)\n",
    "\n",
    "# Concatenate the data frames in the list into a single master data frame\n",
    "master_df = pd.concat(dfs, ignore_index=True)\n",
    "    \n",
    "master_df.info()"
   ]
  },
  {
   "cell_type": "code",
   "execution_count": 5,
   "id": "5964faa4-f3c9-41d2-b678-3287d1fe11f4",
   "metadata": {},
   "outputs": [],
   "source": [
    "master_df.to_csv('masterCSV.csv')"
   ]
  }
 ],
 "metadata": {
  "kernelspec": {
   "display_name": "Python 3 (ipykernel)",
   "language": "python",
   "name": "python3"
  },
  "language_info": {
   "codemirror_mode": {
    "name": "ipython",
    "version": 3
   },
   "file_extension": ".py",
   "mimetype": "text/x-python",
   "name": "python",
   "nbconvert_exporter": "python",
   "pygments_lexer": "ipython3",
   "version": "3.11.0"
  }
 },
 "nbformat": 4,
 "nbformat_minor": 5
}
